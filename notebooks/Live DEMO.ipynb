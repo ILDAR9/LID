{
 "cells": [
  {
   "cell_type": "code",
   "execution_count": 1,
   "metadata": {},
   "outputs": [
    {
     "name": "stdout",
     "output_type": "stream",
     "text": [
      "pygame 2.0.0 (SDL 2.0.12, python 3.7.4)\n",
      "Hello from the pygame community. https://www.pygame.org/contribute.html\n"
     ]
    },
    {
     "name": "stderr",
     "output_type": "stream",
     "text": [
      "/Users/a18180846/projects/voice/env/lib/python3.7/site-packages/noisereduce/noisereduce.py:5: TqdmExperimentalWarning: Using `tqdm.autonotebook.tqdm` in notebook mode. Use `tqdm.tqdm` instead to force console mode (e.g. in jupyter console)\n",
      "  from tqdm.autonotebook import tqdm\n"
     ]
    }
   ],
   "source": [
    "%matplotlib inline\n",
    "from importlib import reload\n",
    "import sys\n",
    "sys.path.append('..')\n",
    "\n",
    "from demo import Microphone\n",
    "from lid import demoutils"
   ]
  },
  {
   "cell_type": "markdown",
   "metadata": {},
   "source": [
    "## DEMO"
   ]
  },
  {
   "cell_type": "code",
   "execution_count": 8,
   "metadata": {},
   "outputs": [],
   "source": [
    "reload(demoutils)\n",
    "user_settings = {'vad_level': 3, 'noise_reduction': True,\n",
    "                 'voted_seconds': 6, 'voting_overlap': 0.5, 'voting': 'mean'}\n",
    "setting_path = r\"../experiments/ldcnn32mel512hop.yml\"\n",
    "predictor = demoutils.LID(setting_path, user_settings)"
   ]
  },
  {
   "cell_type": "code",
   "execution_count": 9,
   "metadata": {},
   "outputs": [],
   "source": [
    "mic = Microphone(vad_level=1)"
   ]
  },
  {
   "cell_type": "code",
   "execution_count": 10,
   "metadata": {
    "scrolled": false
   },
   "outputs": [
    {
     "data": {
      "application/vnd.jupyter.widget-view+json": {
       "model_id": "b4e06123195149bb852b0dc5e39d9d8a",
       "version_major": 2,
       "version_minor": 0
      },
      "text/plain": [
       "Button(description='Record', style=ButtonStyle())"
      ]
     },
     "metadata": {},
     "output_type": "display_data"
    }
   ],
   "source": [
    "from ipywidgets import Button, widgets\n",
    "import asyncio\n",
    "from IPython.display import clear_output\n",
    "outs = widgets.Output()\n",
    "\n",
    "def wait_for_change(widget):\n",
    "    future = asyncio.Future()\n",
    "    def getvalue(change):\n",
    "        future.set_result(change.description)\n",
    "        widget.on_click(getvalue, remove=True)\n",
    "    widget.on_click(getvalue)\n",
    "    return future\n",
    "\n",
    "btn_record = Button(description=\"Record\")\n",
    "\n",
    "\n",
    "async def f():\n",
    "    await wait_for_change(btn_record)\n",
    "    for data in mic.run(max_duration=5):\n",
    "        (label, p), window_labels = predictor.predict(data, mic.SAMPLE_RATE, visualize=True)\n",
    "        print(f\"Predict: '{label}'  probability={p:.2f}\\n\\tframes: {window_labels}\")\n",
    "        await wait_for_change(btn_record)\n",
    "        clear_output(wait=True)\n",
    "        display(btn_record)\n",
    "\n",
    "asyncio.create_task(f())\n",
    "display(btn_record)"
   ]
  },
  {
   "cell_type": "markdown",
   "metadata": {},
   "source": [
    "### You could use the next youtube videos to test the model below:\n",
    "\n",
    "ru [Link](https://www.youtube.com/watch?v=gNDZy9X24CY&ab_channel=ValeriFadeeva)\n",
    "\n",
    "en [Link](https://www.youtube.com/watch?v=WGoIoDuf83o&ab_channel=mmmEnglish)\n",
    "\n",
    "de [Link](https://www.youtube.com/watch?v=vLtRQO80Ofk&ab_channel=EasyGerman)"
   ]
  },
  {
   "cell_type": "code",
   "execution_count": null,
   "metadata": {},
   "outputs": [],
   "source": []
  }
 ],
 "metadata": {
  "kernelspec": {
   "display_name": "Python 3",
   "language": "python",
   "name": "python3"
  },
  "language_info": {
   "codemirror_mode": {
    "name": "ipython",
    "version": 3
   },
   "file_extension": ".py",
   "mimetype": "text/x-python",
   "name": "python",
   "nbconvert_exporter": "python",
   "pygments_lexer": "ipython3",
   "version": "3.7.4"
  }
 },
 "nbformat": 4,
 "nbformat_minor": 4
}
